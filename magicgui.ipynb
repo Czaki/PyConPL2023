{
 "cells": [
  {
   "cell_type": "code",
   "execution_count": 9,
   "metadata": {},
   "outputs": [],
   "source": [
    "from magicgui import magicgui, use_app "
   ]
  },
  {
   "cell_type": "code",
   "execution_count": 2,
   "metadata": {},
   "outputs": [
    {
     "data": {
      "text/plain": [
       "<magicgui app, wrapping the ipynb GUI toolkit>"
      ]
     },
     "execution_count": 2,
     "metadata": {},
     "output_type": "execute_result"
    }
   ],
   "source": [
    "use_app(\"ipynb\")\n",
    "# %gui qt"
   ]
  },
  {
   "cell_type": "code",
   "execution_count": 4,
   "metadata": {},
   "outputs": [],
   "source": [
    "@magicgui\n",
    "def square_calculator(height: float, width: float = 15.5) -> float:\n",
    "    return width * height"
   ]
  },
  {
   "cell_type": "code",
   "execution_count": 5,
   "metadata": {},
   "outputs": [],
   "source": [
    "@square_calculator.called.connect\n",
    "def callback(a=None):\n",
    "    print(\"Square is: \", a)"
   ]
  },
  {
   "cell_type": "code",
   "execution_count": 7,
   "metadata": {},
   "outputs": [
    {
     "data": {
      "application/vnd.jupyter.widget-view+json": {
       "model_id": "841daca3792244a484da05e1ec953344",
       "version_major": 2,
       "version_minor": 0
      },
      "text/plain": [
       "VBox(children=(HBox(children=(Label(value='height', layout=Layout(min_width='40px')), FloatText(value=10.0, st…"
      ]
     },
     "execution_count": 7,
     "metadata": {},
     "output_type": "execute_result"
    },
    {
     "name": "stdout",
     "output_type": "stream",
     "text": [
      "Square is:  155.0\n"
     ]
    }
   ],
   "source": [
    "square_calculator"
   ]
  },
  {
   "cell_type": "code",
   "execution_count": 11,
   "metadata": {},
   "outputs": [],
   "source": [
    "from magicgui.widgets import Container, Button, FloatSlider"
   ]
  },
  {
   "cell_type": "code",
   "execution_count": 14,
   "metadata": {},
   "outputs": [],
   "source": [
    "c = Container()\n",
    "slider_1 = FloatSlider(min=1, max=10, label=\"a\")\n",
    "slider_2 = FloatSlider(min=5, max=20, label=\"b\")\n",
    "\n",
    "c.append(slider_1)\n",
    "c.append(slider_2)\n",
    "\n",
    "@c.changed.connect\n",
    "def power():\n",
    "    print(\"power\", slider_1.value ** slider_2.value)"
   ]
  },
  {
   "cell_type": "code",
   "execution_count": 15,
   "metadata": {},
   "outputs": [
    {
     "data": {
      "application/vnd.jupyter.widget-view+json": {
       "model_id": "fd8c6702760546dbbf34294f03a88b4a",
       "version_major": 2,
       "version_minor": 0
      },
      "text/plain": [
       "VBox(children=(HBox(children=(Label(value='a', layout=Layout(min_width='40px')), FloatSlider(value=1.0, max=10…"
      ]
     },
     "execution_count": 15,
     "metadata": {},
     "output_type": "execute_result"
    },
    {
     "name": "stdout",
     "output_type": "stream",
     "text": [
      "power 32.0\n",
      "power 243.0\n",
      "power 1023.9999999999994\n",
      "power 3125.0\n",
      "power 15625.0\n",
      "power 78125.0\n",
      "power 390625.0\n",
      "power 1953125.0\n",
      "power 9765625.0\n",
      "power 1953125.0\n",
      "power 9765625.0\n"
     ]
    }
   ],
   "source": [
    "c"
   ]
  }
 ],
 "metadata": {
  "kernelspec": {
   "display_name": "Python 3 (ipykernel)",
   "language": "python",
   "name": "python3"
  },
  "language_info": {
   "codemirror_mode": {
    "name": "ipython",
    "version": 3
   },
   "file_extension": ".py",
   "mimetype": "text/x-python",
   "name": "python",
   "nbconvert_exporter": "python",
   "pygments_lexer": "ipython3",
   "version": "3.10.4"
  }
 },
 "nbformat": 4,
 "nbformat_minor": 4
}
