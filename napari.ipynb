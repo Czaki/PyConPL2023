{
 "cells": [
  {
   "cell_type": "code",
   "execution_count": null,
   "id": "4f4ac2f7",
   "metadata": {},
   "outputs": [],
   "source": [
    "import napari\n",
    "import imageio\n",
    "import numpy as np"
   ]
  },
  {
   "cell_type": "code",
   "execution_count": null,
   "id": "9956f20d",
   "metadata": {},
   "outputs": [],
   "source": [
    "v = napari.Viewer()\n",
    "v.open(\"images/pexels-pixabay-162140.jpg\")\n",
    "v.add_labels(np.zeros(v.layers[0].data.shape[:-1], dtype=\"uint8\"), name=\"Labels\")\n",
    "\n",
    "v.show(block=True)\n",
    "\n",
    "print(np.count_nonzero(v.layers[\"Labels\"].data))"
   ]
  },
  {
   "cell_type": "code",
   "execution_count": null,
   "id": "29ad6dea",
   "metadata": {},
   "outputs": [],
   "source": [
    "from napari.types import ImageData\n",
    "from skimage.filters import gaussian\n",
    "\n",
    "\n",
    "def gauss(image: ImageData, sigma: float = 1) -> ImageData:\n",
    "    return gaussian(image, sigma=sigma, channel_axis=-1)\n",
    "    "
   ]
  },
  {
   "cell_type": "code",
   "execution_count": null,
   "id": "fa5085f8",
   "metadata": {},
   "outputs": [],
   "source": [
    "v = napari.Viewer()\n",
    "v.open(\"images/pexels-pixabay-372166.jpg\")\n",
    "v.open(\"images/pexels-pixabay-162140.jpg\")\n",
    "v.window.add_function_widget(gauss)\n",
    "v.show()"
   ]
  },
  {
   "cell_type": "code",
   "execution_count": null,
   "id": "d5c40543",
   "metadata": {},
   "outputs": [],
   "source": [
    "v.layers"
   ]
  },
  {
   "cell_type": "code",
   "execution_count": null,
   "id": "ba137cf0",
   "metadata": {},
   "outputs": [],
   "source": [
    "v.add_points([(50, 50), (300, 400)], size=50)"
   ]
  },
  {
   "cell_type": "code",
   "execution_count": null,
   "id": "8343f438",
   "metadata": {},
   "outputs": [],
   "source": []
  }
 ],
 "metadata": {
  "kernelspec": {
   "display_name": "Python 3 (ipykernel)",
   "language": "python",
   "name": "python3"
  },
  "language_info": {
   "codemirror_mode": {
    "name": "ipython",
    "version": 3
   },
   "file_extension": ".py",
   "mimetype": "text/x-python",
   "name": "python",
   "nbconvert_exporter": "python",
   "pygments_lexer": "ipython3",
   "version": "3.10.11"
  }
 },
 "nbformat": 4,
 "nbformat_minor": 5
}
