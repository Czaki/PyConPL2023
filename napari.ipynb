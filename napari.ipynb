{
 "cells": [
  {
   "cell_type": "code",
   "execution_count": 1,
   "id": "4f4ac2f7",
   "metadata": {},
   "outputs": [],
   "source": [
    "import napari\n",
    "import imageio\n",
    "import numpy as np"
   ]
  },
  {
   "cell_type": "code",
   "execution_count": 3,
   "id": "9956f20d",
   "metadata": {},
   "outputs": [
    {
     "name": "stdout",
     "output_type": "stream",
     "text": [
      "5164\n"
     ]
    }
   ],
   "source": [
    "v = napari.Viewer()\n",
    "v.open(\"images/pexels-pixabay-162140.jpg\")\n",
    "v.add_labels(np.zeros(v.layers[0].data.shape[:-1], dtype=\"uint8\"), name=\"Labels\")\n",
    "\n",
    "v.show(block=True)\n",
    "\n",
    "print(np.count_nonzero(v.layers[\"Labels\"].data))"
   ]
  }
 ],
 "metadata": {
  "kernelspec": {
   "display_name": "Python 3 (ipykernel)",
   "language": "python",
   "name": "python3"
  },
  "language_info": {
   "codemirror_mode": {
    "name": "ipython",
    "version": 3
   },
   "file_extension": ".py",
   "mimetype": "text/x-python",
   "name": "python",
   "nbconvert_exporter": "python",
   "pygments_lexer": "ipython3",
   "version": "3.10.4"
  }
 },
 "nbformat": 4,
 "nbformat_minor": 5
}
